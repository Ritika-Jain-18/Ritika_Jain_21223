{
  "nbformat": 4,
  "nbformat_minor": 0,
  "metadata": {
    "colab": {
      "provenance": [],
      "include_colab_link": true
    },
    "kernelspec": {
      "name": "python3",
      "display_name": "Python 3"
    },
    "language_info": {
      "name": "python"
    }
  },
  "cells": [
    {
      "cell_type": "markdown",
      "metadata": {
        "id": "view-in-github",
        "colab_type": "text"
      },
      "source": [
        "<a href=\"https://colab.research.google.com/github/Ritika-Jain-18/Ritika_Jain_21223/blob/main/QUE4.ipynb\" target=\"_parent\"><img src=\"https://colab.research.google.com/assets/colab-badge.svg\" alt=\"Open In Colab\"/></a>"
      ]
    },
    {
      "cell_type": "code",
      "execution_count": null,
      "metadata": {
        "id": "AnqfUDuh6Ddb",
        "colab": {
          "base_uri": "https://localhost:8080/"
        },
        "outputId": "57841fa6-3503-4609-aac2-6e007e88ab11"
      },
      "outputs": [
        {
          "output_type": "stream",
          "name": "stdout",
          "text": [
            "/bin/bash: -c: line 1: syntax error near unexpected token `/content/Kopec_CSPiP_02.png'\n",
            "/bin/bash: -c: line 1: `[picture] (/content/Kopec_CSPiP_02.png)'\n"
          ]
        }
      ],
      "source": [
        "\n",
        "\n",
        "#Problem Statement: Assign every adjacent state of Australia a different color (Graph coloring problem)\n",
        "\n",
        "# To model the problem as a CSP, we need to define the variables, domains, and constraints.\n",
        "# The variables are the seven regions of Australia (at least the seven that we’ll restrict ourselves to): Western Australia; Northern Territory; South Australia; Queensland; New South Wales; Victoria; and Tasmania. In our CSP, they can be modeled with strings.\n",
        "# The domain of each variable is the three different colors that can possibly be assigned (we’ll use red, green, and blue).\n",
        "# The constraints are the tricky part. No two adjacent regions can be colored with the same color, and our constraints are dependent on which regions border one another.\n",
        "# We can use binary constraints (constraints between two variables). Every two regions that share a border also share a binary constraint indicating they can’t be assigned the same color.\n",
        "\n",
        "# To implement these binary constraints in code, we need to subclass the Constraint class.\n",
        "# The MapColoringConstraint subclass takes two variables in its constructor (therefore being a binary constraint): the two regions that share a border.\n",
        "# Its overridden satisfied() method check whether the two regions both have a domain value (color) assigned to them—if either doesn’t, the constraint’s trivially satisfied until they do (there can’t be a conflict when one doesn’t yet have a color).\n",
        "# Then it checks whether the two regions are assigned the same color (obviously there’s a conflict, meaning the constraint isn’t satisfied, when they’re the same).\n",
        "\n"
      ]
    },
    {
      "cell_type": "code",
      "source": [
        "from typing import Generic, TypeVar, Dict, List, Optional\n",
        "from abc import ABC, abstractmethod\n",
        "V = TypeVar('V') # variable type\n",
        "D = TypeVar('D') # domain type\n",
        "\n",
        "##Constraints are defined using a Constraint class. Each Constraint consists of the variables it constrains and a method that checks whether it’s satisfied().\n",
        " # Base class for all constraints\n",
        "class Constraint(Generic[V, D], ABC):\n",
        "     # The variables that the constraint is between\n",
        "     def __init__(self, variables: List[V]) -> None:\n",
        "         self.variables = variables\n",
        "\n",
        "     # Must be overridden by subclasses\n",
        "     @abstractmethod\n",
        "     def satisfied(self, assignment: Dict[V, D]) -> bool:\n",
        "      ..."
      ],
      "metadata": {
        "id": "NtMTjNsn6TaD"
      },
      "execution_count": null,
      "outputs": []
    },
    {
      "cell_type": "code",
      "source": [
        "# A constraint satisfaction problem consists of variables of type V\n",
        " # that have ranges of values known as domains of type D and constraints\n",
        " # that determine whether a particular variable's domain selection is valid\n",
        "class CSP(Generic[V, D]):\n",
        " ## The __init__() initializer creates the constraints dict.\n",
        "  ##The add_constraint() method goes through all of the variables touched by a given constraint and adds itself to the constraints\n",
        " ## mapping for each of them. Both methods have basic error-checking in place, and raise an exception when a variable is missing a domain or a constraint is on a nonexistent variable.\n",
        "     def __init__(self, variables: List[V], domains: Dict[V, List[D]]) -> None:\n",
        "         self.variables: List[V] = variables # variables to be constrained\n",
        "         self.domains: Dict[V, List[D]] = domains # domain of each variable\n",
        "         self.constraints: Dict[V, List[Constraint[V, D]]] = {}\n",
        "         for variable in self.variables:\n",
        "             self.constraints[variable] = []\n",
        "             if variable not in self.domains:\n",
        "                 raise LookupError(\"Every variable should have a domain assigned to it.\")\n",
        "\n",
        "     def add_constraint(self, constraint: Constraint[V, D]) -> None:\n",
        "         for variable in constraint.variables:\n",
        "             if variable not in self.variables:\n",
        "                 raise LookupError(\"Variable in constraint not in CSP\")\n",
        "             else:\n",
        "                 self.constraints[variable].append(constraint)\n",
        "    # Check if the value assignment is consistent by checking all constraints\n",
        "    # for the given variable against it\n",
        "   # consistent() goes through every constraint for a given variable\n",
        "   #  (it’s always a variable that was newly added to the assignment) and checks if the constraint is satisfied, given the new assignment.\n",
        "   # If the assignment satisfies every constraint, True is returned. If any constraint imposed on the variable isn’t satisfied, False is returned.\n",
        "     def consistent(self, variable: V, assignment: Dict[V, D]) -> bool:\n",
        "         for constraint in self.constraints[variable]:\n",
        "           if not constraint.satisfied(assignment):\n",
        "               return False\n",
        "         return True\n",
        "    #The backtracking search implemented in the following backtracking_search() function is a kind of recursive depth-first search.\n",
        "     def backtracking_search(self, assignment: Dict[V, D] = {}) -> Optional[Dict[V, D]]:\n",
        "     # assignment is complete if every variable is assigned (our base case) The base case for the recursive search is finding a valid assignment for every variable. Once we have, we return the first instance of a solution that was valid (we stop searching).\n",
        "         if len(assignment) == len(self.variables):\n",
        "            return assignment\n",
        "     # get all variables in the CSP but not in the assignment\n",
        "         unassigned: List[V] = [v for v in self.variables if v not in assignment]\n",
        "\n",
        "     # get the every possible domain value of the first unassigned variable\n",
        "         first: V = unassigned[0]\n",
        "\n",
        "         #To select a new variable whose domain we can explore, we go through all of the variables and find the first that doesn’t have an assignment.\n",
        "         #To do this, we create a list of variables in self.variables but not in assignment through a list comprehension, and call it unassigned.\n",
        "         #Then we pull out the first value in unassigned.\n",
        "         for value in self.domains[first]:\n",
        "           local_assignment = assignment.copy()\n",
        "           local_assignment[first] = value\n",
        "         # if we're still consistent, we recurse (continue)\n",
        "         #We try assigning every possible domain value for that variable, one at a time. The new assignment for each is stored in a local dictionary called local_assignment.\n",
        "           if self.consistent(first, local_assignment):\n",
        "             result: Optional[Dict[V, D]] = self.backtracking_search(local_assignment)\n",
        "             # if we didn't find the result, we will end up backtracking\n",
        "             if result is not None:\n",
        "                 return result\n",
        "         return None"
      ],
      "metadata": {
        "id": "mmiMoo6p8GVR"
      },
      "execution_count": null,
      "outputs": []
    },
    {
      "cell_type": "code",
      "source": [
        "from typing import Dict, List, Optional\n",
        "\n",
        "\n",
        "class MapColoringConstraint(Constraint[str, str]):\n",
        "     def __init__(self, place1: str, place2: str) -> None:\n",
        "         super().__init__([place1, place2])\n",
        "         self.place1: str = place1\n",
        "         self.place2: str = place2\n",
        "\n",
        "     def satisfied(self, assignment: Dict[str, str]) -> bool:\n",
        "         # If either place is not in the assignment then it is not\n",
        "         # yet possible for their colors to be conflicting\n",
        "         if self.place1 not in assignment or self.place2 not in assignment:\n",
        "             return True\n",
        "         # check the color assigned to place1 is not the same as the\n",
        "         # color assigned to place2\n",
        "         return assignment[self.place1] != assignment[self.place2]"
      ],
      "metadata": {
        "id": "qbz103tz8H2c"
      },
      "execution_count": null,
      "outputs": []
    },
    {
      "cell_type": "code",
      "source": [
        "#Now that we have a way of implementing the constraints between regions, fleshing out the Australian map-coloring problem\n",
        "#with our CSP solver is a matter of filling in domains and variables, and then adding constraints.\n",
        "\n",
        "if __name__ == \"__main__\":\n",
        "     variables: List[str] = [\"Western Australia\", \"Northern Territory\", \"South Australia\",\n",
        "                             \"Queensland\", \"New South Wales\", \"Victoria\", \"Tasmania\"]\n",
        "     domains: Dict[str, List[str]] = {}\n",
        "     for variable in variables:\n",
        "         domains[variable] = [\"red\", \"green\", \"blue\"]\n",
        "     csp: CSP[str, str] = CSP(variables, domains)\n",
        "     csp.add_constraint(MapColoringConstraint(\"Western Australia\", \"Northern Territory\"))\n",
        "     csp.add_constraint(MapColoringConstraint(\"Western Australia\", \"South Australia\"))\n",
        "     csp.add_constraint(MapColoringConstraint(\"South Australia\", \"Northern Territory\"))\n",
        "     csp.add_constraint(MapColoringConstraint(\"Queensland\", \"Northern Territory\"))\n",
        "     csp.add_constraint(MapColoringConstraint(\"Queensland\", \"South Australia\"))\n",
        "     csp.add_constraint(MapColoringConstraint(\"Queensland\", \"New South Wales\"))\n",
        "     csp.add_constraint(MapColoringConstraint(\"New South Wales\", \"South Australia\"))\n",
        "     csp.add_constraint(MapColoringConstraint(\"Victoria\", \"South Australia\"))\n",
        "     csp.add_constraint(MapColoringConstraint(\"Victoria\", \"New South Wales\"))\n",
        "     csp.add_constraint(MapColoringConstraint(\"Victoria\", \"Tasmania\"))\n",
        "     #Backtracking_search() is called to find a solution.\n",
        "     solution:Optional[Dict[str, str]] = csp.backtracking_search()\n",
        "\n",
        "     if solution is None:\n",
        "        print (\"test\",solution)\n",
        "        print(\"No solution found!\")\n",
        "     print(solution)\n",
        "#Content taken from https://freecontent.manning.com/constraint-satisfaction-problems-in-python/"
      ],
      "metadata": {
        "id": "j-iLmlaJ8H5x",
        "colab": {
          "base_uri": "https://localhost:8080/"
        },
        "outputId": "c4679452-b4fe-433f-ad1d-30cd7c3938fb"
      },
      "execution_count": null,
      "outputs": [
        {
          "output_type": "stream",
          "name": "stdout",
          "text": [
            "{'Western Australia': 'red', 'Northern Territory': 'green', 'South Australia': 'blue', 'Queensland': 'red', 'New South Wales': 'green', 'Victoria': 'red', 'Tasmania': 'green'}\n"
          ]
        }
      ]
    },
    {
      "cell_type": "code",
      "source": [],
      "metadata": {
        "id": "UBLv75jKDvL0"
      },
      "execution_count": null,
      "outputs": []
    }
  ]
}